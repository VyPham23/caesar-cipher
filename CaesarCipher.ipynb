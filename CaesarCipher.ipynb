{
  "nbformat": 4,
  "nbformat_minor": 0,
  "metadata": {
    "colab": {
      "provenance": [],
      "authorship_tag": "ABX9TyMi2U9UyN8B8UdPt0zsWm7x",
      "include_colab_link": true
    },
    "kernelspec": {
      "name": "python3",
      "display_name": "Python 3"
    },
    "language_info": {
      "name": "python"
    }
  },
  "cells": [
    {
      "cell_type": "markdown",
      "metadata": {
        "id": "view-in-github",
        "colab_type": "text"
      },
      "source": [
        "<a href=\"https://colab.research.google.com/github/VyPham23/caesar-cipher/blob/main/CaesarCipher.ipynb\" target=\"_parent\"><img src=\"https://colab.research.google.com/assets/colab-badge.svg\" alt=\"Open In Colab\"/></a>"
      ]
    },
    {
      "cell_type": "code",
      "execution_count": null,
      "metadata": {
        "id": "XtJ9ysgMKn4s"
      },
      "outputs": [],
      "source": [
        "def encrypt(plaintext,n):\n",
        "    cipher = \"\"\n",
        "    # iterate over the given text\n",
        "    for i in range(len(plaintext)):\n",
        "        ch = plaintext[i]\n",
        "\n",
        "        if ch==\" \":\n",
        "            cipher+=\" \"\n",
        "\n",
        "        elif (ch.isupper()):\n",
        "            cipher += chr((ord(ch) + n-65) % 26 + 65)\n",
        "\n",
        "        else:\n",
        "            cipher += chr((ord(ch) + n-97) % 26 + 97)\n",
        "\n",
        "    return cipher"
      ]
    },
    {
      "cell_type": "code",
      "source": [
        "plaintext = str(input(\"Plain Text: \"))\n",
        "n = int(input(\"Shift patterns: \"))\n",
        "print(\"Cipher Text: \", str(encrypt(plaintext,n)))"
      ],
      "metadata": {
        "colab": {
          "base_uri": "https://localhost:8080/"
        },
        "id": "O9-pAPITKvSg",
        "outputId": "9bb1237a-1222-4763-8bd8-282fc7007ea6"
      },
      "execution_count": null,
      "outputs": [
        {
          "output_type": "stream",
          "name": "stdout",
          "text": [
            "Plain Text: hello guys\n",
            "Shift patterns: 3\n",
            "Cipher Text:  khoor jxbv\n"
          ]
        }
      ]
    }
  ]
}